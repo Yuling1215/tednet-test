{
 "cells": [
  {
   "cell_type": "markdown",
   "metadata": {
    "colab_type": "text",
    "id": "gqwrcHFAVwgs"
   },
   "source": [
    "# A sample for Tensorial Recurrent Neural Network"
   ]
  },
  {
   "cell_type": "markdown",
   "metadata": {
    "colab_type": "text",
    "id": "oz-X6ZrGVwgu"
   },
   "source": [
    "By replacing input-to-hidden layer of a RNN with tensor cores, tensorial RNN is constructed.\n",
    "\n",
    "Here is an tensor ring example to use a TR-based model with `tednet`."
   ]
  },
  {
   "cell_type": "code",
   "execution_count": 1,
   "metadata": {
    "colab": {
     "base_uri": "https://localhost:8080/",
     "height": 34
    },
    "colab_type": "code",
    "id": "ri9QCNEAVwgw",
    "outputId": "efd8c64b-836e-449b-a385-dd3a63a5b4a2"
   },
   "outputs": [
    {
     "name": "stdout",
     "output_type": "stream",
     "text": [
      "No GPU Util Limit!\n",
      "Sorted by memory:\n",
      "    GPU Index: 2       GPU FreeMemory: 11176 MB       GPU Util: 0%    \n",
      "    GPU Index: 4       GPU FreeMemory: 11176 MB       GPU Util: 0%    \n",
      "    GPU Index: 1       GPU FreeMemory: 10129 MB       GPU Util: 0%    \n",
      "    GPU Index: 0       GPU FreeMemory: 6133 MB        GPU Util: 37%   \n",
      "    GPU Index: 3       GPU FreeMemory: 1109 MB        GPU Util: 94%   \n",
      "    GPU Index: 5       GPU FreeMemory: 1109 MB        GPU Util: 100%  \n",
      "    GPU Index: 6       GPU FreeMemory: 1109 MB        GPU Util: 100%  \n",
      "    GPU Index: 7       GPU FreeMemory: 1109 MB        GPU Util: 95%   \n",
      "Qualified GPU Index is: [2]\n"
     ]
    }
   ],
   "source": [
    "from managpu import GpuManager\n",
    "my_gpu = GpuManager()\n",
    "my_gpu.set_by_memory(1)\n",
    "\n",
    "import random\n",
    "from collections import namedtuple\n",
    "\n",
    "import tednet as tdt\n",
    "import tednet.tnn.tensor_ring as tr\n",
    "\n",
    "import numpy as np\n",
    "\n",
    "import torch\n",
    "import torch.nn as nn\n",
    "import torch.nn.functional as F\n",
    "import torch.optim as optim\n",
    "\n",
    "from torchvision import datasets, transforms"
   ]
  },
  {
   "cell_type": "markdown",
   "metadata": {},
   "source": [
    "**Set basic environment**"
   ]
  },
  {
   "cell_type": "code",
   "execution_count": 2,
   "metadata": {},
   "outputs": [],
   "source": [
    "use_cuda = torch.cuda.is_available()\n",
    "device = torch.device(\"cuda\" if use_cuda else \"cpu\")\n",
    "seed = 233\n",
    "random.seed(seed)\n",
    "np.random.seed(seed)\n",
    "torch.manual_seed(seed)\n",
    "if use_cuda:\n",
    "    torch.cuda.manual_seed_all(seed)\n",
    "    torch.backends.cudnn.benchmark = True\n",
    "    torch.backends.cudnn.deterministic = True\n",
    "    \n",
    "LSTMState = namedtuple('LSTMState', ['hx', 'cx'])\n",
    "Input_Size = np.prod([28, 28])\n",
    "Hidden_Size = 256"
   ]
  },
  {
   "cell_type": "markdown",
   "metadata": {},
   "source": [
    "**Set dataloader**"
   ]
  },
  {
   "cell_type": "code",
   "execution_count": 3,
   "metadata": {},
   "outputs": [],
   "source": [
    "kwargs = {'num_workers': 1, 'pin_memory': True} if use_cuda else {}\n",
    "train_loader = torch.utils.data.DataLoader(\n",
    "    datasets.MNIST('./data', train=True, download=True,\n",
    "                   transform=transforms.Compose([\n",
    "                       transforms.ToTensor(),\n",
    "                       transforms.Normalize((0.1307,), (0.3081,))\n",
    "                   ])),\n",
    "    batch_size=128, shuffle=True, **kwargs)\n",
    "test_loader = torch.utils.data.DataLoader(\n",
    "    datasets.MNIST('./data', train=False, transform=transforms.Compose([\n",
    "        transforms.ToTensor(),\n",
    "        transforms.Normalize((0.1307,), (0.3081,))\n",
    "    ])),\n",
    "    batch_size=256, shuffle=True, **kwargs)"
   ]
  },
  {
   "cell_type": "markdown",
   "metadata": {},
   "source": [
    "**Set TR-LSTM Classifier**"
   ]
  },
  {
   "cell_type": "code",
   "execution_count": 4,
   "metadata": {},
   "outputs": [],
   "source": [
    "class ClassifierTR(nn.Module):\n",
    "    def __init__(self, num_class=10):\n",
    "        super(ClassifierTR, self).__init__()\n",
    "        in_shape = [28, 28]\n",
    "        hidden_shape = [16, 16]\n",
    "        \n",
    "        self.hidden_size = Hidden_Size\n",
    "\n",
    "        self.lstm = tr.TRLSTM(in_shape, hidden_shape, [5, 5, 5, 5])\n",
    "        self.fc = nn.Linear(self.hidden_size, num_class)\n",
    "        \n",
    "    def forward(self, x, state):\n",
    "        input_shape = x.shape\n",
    "        batch_size = input_shape[0]\n",
    "        seq_size = input_shape[1]\n",
    "        x = x.view(batch_size, seq_size, -1)\n",
    "        x = x.permute(1, 0, 2)\n",
    "        _, x = self.lstm(x, state)\n",
    "        x = self.fc(x[0])\n",
    "        return x"
   ]
  },
  {
   "cell_type": "markdown",
   "metadata": {},
   "source": [
    "**Set training and testing process**"
   ]
  },
  {
   "cell_type": "code",
   "execution_count": 5,
   "metadata": {},
   "outputs": [],
   "source": [
    "def train(model, device, train_loader, optimizer, epoch, log_interval=200):\n",
    "    model.train()\n",
    "    for batch_idx, (data, target) in enumerate(train_loader):\n",
    "        data, target = data.to(device), target.to(device)\n",
    "        optimizer.zero_grad()\n",
    "        \n",
    "        batch_size = data.shape[0]\n",
    "        state = LSTMState(torch.zeros(batch_size, Hidden_Size, device=device),\n",
    "                              torch.zeros(batch_size, Hidden_Size, device=device))\n",
    "        output = model(data, state)\n",
    "        \n",
    "        loss = F.cross_entropy(output, target)\n",
    "        loss.backward()\n",
    "        optimizer.step()\n",
    "        if batch_idx % log_interval == 0:\n",
    "            print('Train Epoch: {} [{}/{} ({:.0f}%)]\\tLoss: {:.6f}'.format(\n",
    "                epoch, batch_idx * len(data), len(train_loader.dataset),\n",
    "                       100. * batch_idx / len(train_loader), loss.item()))\n",
    "\n",
    "\n",
    "def test(model, device, test_loader):\n",
    "    model.eval()\n",
    "    test_loss = 0\n",
    "    correct = 0\n",
    "    with torch.no_grad():\n",
    "        for data, target in test_loader:\n",
    "            data, target = data.to(device), target.to(device)\n",
    "            \n",
    "            batch_size = data.shape[0]\n",
    "            state = LSTMState(torch.zeros(batch_size, Hidden_Size, device=device),\n",
    "                              torch.zeros(batch_size, Hidden_Size, device=device))\n",
    "            output = model(data, state)\n",
    "        \n",
    "            test_loss += F.cross_entropy(output, target, reduction='sum').item()  # sum up batch loss\n",
    "            pred = output.argmax(dim=1, keepdim=True)  # get the index of the max log-probability\n",
    "            correct += pred.eq(target.view_as(pred)).sum().item()\n",
    "\n",
    "    test_loss /= len(test_loader.dataset)\n",
    "\n",
    "    print('\\nTest set: Average loss: {:.4f}, Accuracy: {}/{} ({:.0f}%)\\n'.format(\n",
    "        test_loss, correct, len(test_loader.dataset),\n",
    "        100. * correct / len(test_loader.dataset)))"
   ]
  },
  {
   "cell_type": "markdown",
   "metadata": {},
   "source": [
    "**Begin training**"
   ]
  },
  {
   "cell_type": "code",
   "execution_count": 6,
   "metadata": {},
   "outputs": [
    {
     "name": "stdout",
     "output_type": "stream",
     "text": [
      "compression_ration is:  236.12235294117647\n",
      "Train Epoch: 0 [0/60000 (0%)]\tLoss: 2.271237\n",
      "Train Epoch: 0 [25600/60000 (43%)]\tLoss: 2.037606\n",
      "Train Epoch: 0 [51200/60000 (85%)]\tLoss: 1.804040\n",
      "\n",
      "Test set: Average loss: 1.5393, Accuracy: 5888/10000 (59%)\n",
      "\n",
      "Train Epoch: 1 [0/60000 (0%)]\tLoss: 1.675199\n",
      "Train Epoch: 1 [25600/60000 (43%)]\tLoss: 1.413317\n",
      "Train Epoch: 1 [51200/60000 (85%)]\tLoss: 1.376522\n",
      "\n",
      "Test set: Average loss: 1.0163, Accuracy: 6931/10000 (69%)\n",
      "\n",
      "Train Epoch: 2 [0/60000 (0%)]\tLoss: 1.204728\n",
      "Train Epoch: 2 [25600/60000 (43%)]\tLoss: 1.068120\n",
      "Train Epoch: 2 [51200/60000 (85%)]\tLoss: 1.048317\n",
      "\n",
      "Test set: Average loss: 0.7734, Accuracy: 7470/10000 (75%)\n",
      "\n",
      "Train Epoch: 3 [0/60000 (0%)]\tLoss: 0.902623\n",
      "Train Epoch: 3 [25600/60000 (43%)]\tLoss: 0.709798\n",
      "Train Epoch: 3 [51200/60000 (85%)]\tLoss: 0.772015\n",
      "\n",
      "Test set: Average loss: 0.6653, Accuracy: 7714/10000 (77%)\n",
      "\n",
      "Train Epoch: 4 [0/60000 (0%)]\tLoss: 0.793773\n",
      "Train Epoch: 4 [25600/60000 (43%)]\tLoss: 0.747470\n",
      "Train Epoch: 4 [51200/60000 (85%)]\tLoss: 0.739394\n",
      "\n",
      "Test set: Average loss: 0.5988, Accuracy: 8006/10000 (80%)\n",
      "\n",
      "Train Epoch: 5 [0/60000 (0%)]\tLoss: 0.711895\n",
      "Train Epoch: 5 [25600/60000 (43%)]\tLoss: 0.610803\n",
      "Train Epoch: 5 [51200/60000 (85%)]\tLoss: 0.705731\n",
      "\n",
      "Test set: Average loss: 0.5535, Accuracy: 8195/10000 (82%)\n",
      "\n",
      "Train Epoch: 6 [0/60000 (0%)]\tLoss: 0.803615\n",
      "Train Epoch: 6 [25600/60000 (43%)]\tLoss: 0.608962\n",
      "Train Epoch: 6 [51200/60000 (85%)]\tLoss: 0.600730\n",
      "\n",
      "Test set: Average loss: 0.5210, Accuracy: 8317/10000 (83%)\n",
      "\n",
      "Train Epoch: 7 [0/60000 (0%)]\tLoss: 0.507197\n",
      "Train Epoch: 7 [25600/60000 (43%)]\tLoss: 0.634771\n",
      "Train Epoch: 7 [51200/60000 (85%)]\tLoss: 0.603676\n",
      "\n",
      "Test set: Average loss: 0.4965, Accuracy: 8445/10000 (84%)\n",
      "\n",
      "Train Epoch: 8 [0/60000 (0%)]\tLoss: 0.553993\n",
      "Train Epoch: 8 [25600/60000 (43%)]\tLoss: 0.539877\n",
      "Train Epoch: 8 [51200/60000 (85%)]\tLoss: 0.589516\n",
      "\n",
      "Test set: Average loss: 0.4719, Accuracy: 8535/10000 (85%)\n",
      "\n",
      "Train Epoch: 9 [0/60000 (0%)]\tLoss: 0.575935\n",
      "Train Epoch: 9 [25600/60000 (43%)]\tLoss: 0.494978\n",
      "Train Epoch: 9 [51200/60000 (85%)]\tLoss: 0.600699\n",
      "\n",
      "Test set: Average loss: 0.4522, Accuracy: 8601/10000 (86%)\n",
      "\n",
      "Train Epoch: 10 [0/60000 (0%)]\tLoss: 0.425709\n",
      "Train Epoch: 10 [25600/60000 (43%)]\tLoss: 0.439076\n",
      "Train Epoch: 10 [51200/60000 (85%)]\tLoss: 0.427697\n",
      "\n",
      "Test set: Average loss: 0.4368, Accuracy: 8677/10000 (87%)\n",
      "\n",
      "Train Epoch: 11 [0/60000 (0%)]\tLoss: 0.512469\n",
      "Train Epoch: 11 [25600/60000 (43%)]\tLoss: 0.499898\n",
      "Train Epoch: 11 [51200/60000 (85%)]\tLoss: 0.412309\n",
      "\n",
      "Test set: Average loss: 0.4227, Accuracy: 8710/10000 (87%)\n",
      "\n",
      "Train Epoch: 12 [0/60000 (0%)]\tLoss: 0.555337\n",
      "Train Epoch: 12 [25600/60000 (43%)]\tLoss: 0.330346\n",
      "Train Epoch: 12 [51200/60000 (85%)]\tLoss: 0.340294\n",
      "\n",
      "Test set: Average loss: 0.4089, Accuracy: 8746/10000 (87%)\n",
      "\n",
      "Train Epoch: 13 [0/60000 (0%)]\tLoss: 0.419118\n",
      "Train Epoch: 13 [25600/60000 (43%)]\tLoss: 0.335568\n",
      "Train Epoch: 13 [51200/60000 (85%)]\tLoss: 0.328040\n",
      "\n",
      "Test set: Average loss: 0.3973, Accuracy: 8792/10000 (88%)\n",
      "\n",
      "Train Epoch: 14 [0/60000 (0%)]\tLoss: 0.384958\n",
      "Train Epoch: 14 [25600/60000 (43%)]\tLoss: 0.436771\n",
      "Train Epoch: 14 [51200/60000 (85%)]\tLoss: 0.440793\n",
      "\n",
      "Test set: Average loss: 0.3865, Accuracy: 8819/10000 (88%)\n",
      "\n",
      "Train Epoch: 15 [0/60000 (0%)]\tLoss: 0.483415\n",
      "Train Epoch: 15 [25600/60000 (43%)]\tLoss: 0.395679\n",
      "Train Epoch: 15 [51200/60000 (85%)]\tLoss: 0.482825\n",
      "\n",
      "Test set: Average loss: 0.3761, Accuracy: 8861/10000 (89%)\n",
      "\n",
      "Train Epoch: 16 [0/60000 (0%)]\tLoss: 0.436840\n",
      "Train Epoch: 16 [25600/60000 (43%)]\tLoss: 0.339861\n",
      "Train Epoch: 16 [51200/60000 (85%)]\tLoss: 0.366399\n",
      "\n",
      "Test set: Average loss: 0.3689, Accuracy: 8894/10000 (89%)\n",
      "\n",
      "Train Epoch: 17 [0/60000 (0%)]\tLoss: 0.442870\n",
      "Train Epoch: 17 [25600/60000 (43%)]\tLoss: 0.370757\n",
      "Train Epoch: 17 [51200/60000 (85%)]\tLoss: 0.403360\n",
      "\n",
      "Test set: Average loss: 0.3585, Accuracy: 8924/10000 (89%)\n",
      "\n",
      "Train Epoch: 18 [0/60000 (0%)]\tLoss: 0.346232\n",
      "Train Epoch: 18 [25600/60000 (43%)]\tLoss: 0.452554\n",
      "Train Epoch: 18 [51200/60000 (85%)]\tLoss: 0.318595\n",
      "\n",
      "Test set: Average loss: 0.3496, Accuracy: 8960/10000 (90%)\n",
      "\n",
      "Train Epoch: 19 [0/60000 (0%)]\tLoss: 0.272001\n",
      "Train Epoch: 19 [25600/60000 (43%)]\tLoss: 0.430083\n",
      "Train Epoch: 19 [51200/60000 (85%)]\tLoss: 0.446394\n",
      "\n",
      "Test set: Average loss: 0.3433, Accuracy: 8976/10000 (90%)\n",
      "\n"
     ]
    }
   ],
   "source": [
    "# Define a TR-LSTM\n",
    "model = ClassifierTR()\n",
    "model.to(device)\n",
    "optimizer = optim.Adam(model.parameters(), lr=2e-4, weight_decay=0.00016667)\n",
    "\n",
    "for epoch in range(20):\n",
    "    train(model, device, train_loader, optimizer, epoch)\n",
    "    test(model, device, test_loader)"
   ]
  }
 ],
 "metadata": {
  "colab": {
   "collapsed_sections": [],
   "name": "riemannian.ipynb",
   "provenance": []
  },
  "kernelspec": {
   "display_name": "Python 3",
   "language": "python",
   "name": "python3"
  },
  "language_info": {
   "codemirror_mode": {
    "name": "ipython",
    "version": 3
   },
   "file_extension": ".py",
   "mimetype": "text/x-python",
   "name": "python",
   "nbconvert_exporter": "python",
   "pygments_lexer": "ipython3",
   "version": "3.7.9"
  }
 },
 "nbformat": 4,
 "nbformat_minor": 1
}
