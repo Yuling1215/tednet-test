{
 "cells": [
  {
   "cell_type": "markdown",
   "metadata": {
    "colab_type": "text",
    "id": "gqwrcHFAVwgs"
   },
   "source": [
    "# Tensor Ring Convolutional Neural Network"
   ]
  },
  {
   "cell_type": "markdown",
   "metadata": {
    "colab_type": "text",
    "id": "oz-X6ZrGVwgu"
   },
   "source": [
    "By replacing convolutional kernel with tensor ring cores, tensor ring CNN is constructed.\n",
    "\n",
    "Here is an example to use a TR-based model with `tednet`."
   ]
  },
  {
   "cell_type": "code",
   "execution_count": 1,
   "metadata": {
    "colab": {
     "base_uri": "https://localhost:8080/",
     "height": 34
    },
    "colab_type": "code",
    "id": "ri9QCNEAVwgw",
    "outputId": "efd8c64b-836e-449b-a385-dd3a63a5b4a2"
   },
   "outputs": [],
   "source": [
    "import tednet as tdt\n",
    "import tednet.tnn.tensor_ring as tr"
   ]
  },
  {
   "cell_type": "code",
   "execution_count": 2,
   "metadata": {
    "colab": {},
    "colab_type": "code",
    "id": "5Awp7wdwVwg3"
   },
   "outputs": [
    {
     "name": "stdout",
     "output_type": "stream",
     "text": [
      "compression_ration is:  0.3968253968253968\n",
      "compression_ration is:  14.17233560090703\n",
      "compression_ration is:  241.54589371980677\n",
      "compression_ration is:  2.867383512544803\n"
     ]
    }
   ],
   "source": [
    "# Define a TR-LeNet5\n",
    "model = tr.TRLeNet5(10, [6, 6, 6, 6])"
   ]
  },
  {
   "cell_type": "markdown",
   "metadata": {
    "colab_type": "text",
    "id": "i2QmXYqeVwhQ",
    "pycharm": {
     "name": "#%% md\n"
    }
   },
   "source": [
    "It is easy to define a tensor ring model.\n"
   ]
  }
 ],
 "metadata": {
  "colab": {
   "collapsed_sections": [],
   "name": "riemannian.ipynb",
   "provenance": []
  },
  "kernelspec": {
   "display_name": "Python 3",
   "language": "python",
   "name": "python3"
  },
  "language_info": {
   "codemirror_mode": {
    "name": "ipython",
    "version": 3
   },
   "file_extension": ".py",
   "mimetype": "text/x-python",
   "name": "python",
   "nbconvert_exporter": "python",
   "pygments_lexer": "ipython3",
   "version": "3.7.9"
  }
 },
 "nbformat": 4,
 "nbformat_minor": 1
}
