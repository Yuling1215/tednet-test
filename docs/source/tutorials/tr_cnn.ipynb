{
 "nbformat": 4,
 "nbformat_minor": 0,
 "metadata": {
  "kernelspec": {
   "display_name": "Python 3",
   "language": "python",
   "name": "python3"
  },
  "language_info": {
   "codemirror_mode": {
    "name": "ipython",
    "version": 3
   },
   "file_extension": ".py",
   "mimetype": "text/x-python",
   "name": "python",
   "nbconvert_exporter": "python",
   "pygments_lexer": "ipython3",
   "version": "3.6.5"
  },
  "colab": {
   "name": "riemannian.ipynb",
   "provenance": [],
   "collapsed_sections": []
  }
 },
 "cells": [
  {
   "cell_type": "markdown",
   "metadata": {
    "id": "gqwrcHFAVwgs",
    "colab_type": "text"
   },
   "source": [
    "# Tensor Ring Convolutional Neural Network"
   ]
  },
  {
   "cell_type": "markdown",
   "metadata": {
    "id": "oz-X6ZrGVwgu",
    "colab_type": "text"
   },
   "source": [
    "By replacing convolutional kernel with tensor ring cores, tensor ring CNN is constructed.\n",
    "\n",
    "Here is an example to use a TR-based model with `tednet`."
   ]
  },
  {
   "cell_type": "code",
   "metadata": {
    "id": "ri9QCNEAVwgw",
    "colab_type": "code",
    "colab": {
     "base_uri": "https://localhost:8080/",
     "height": 34
    },
    "outputId": "efd8c64b-836e-449b-a385-dd3a63a5b4a2"
   },
   "source": [
    "\n",
    "import tednet as tdt\n",
    "import tednet.tnn.tensor_ring as tr"
   ],
   "execution_count": 1,
   "outputs": [
    {
     "output_type": "stream",
     "text": [
      "TensorFlow 2.x selected.\n"
     ],
     "name": "stdout"
    }
   ]
  },
  {
   "cell_type": "code",
   "metadata": {
    "id": "5Awp7wdwVwg3",
    "colab_type": "code",
    "colab": {}
   },
   "source": [
    "# Define a TR-LeNet5\n",
    "model = tr.TRLeNet5(10, [6, 6, 6, 6])"
   ],
   "execution_count": 0,
   "outputs": []
  },
  {
   "cell_type": "markdown",
   "metadata": {
    "id": "i2QmXYqeVwhQ",
    "colab_type": "text",
    "pycharm": {
     "name": "#%% md\n"
    }
   },
   "source": [
    "It is easy to define a tensor ring model.\n"
   ]
  }
 ]
}