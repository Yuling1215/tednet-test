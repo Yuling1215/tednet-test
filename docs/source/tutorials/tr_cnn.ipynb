{
 "cells": [
  {
   "cell_type": "markdown",
   "metadata": {
    "colab_type": "text",
    "id": "gqwrcHFAVwgs"
   },
   "source": [
    "# A sample for Tensorial Convolutional Neural Network"
   ]
  },
  {
   "cell_type": "markdown",
   "metadata": {
    "colab_type": "text",
    "id": "oz-X6ZrGVwgu"
   },
   "source": [
    "By replacing convolutional kernel with tensor cores, tensorial CNN is constructed.\n",
    "\n",
    "Here is an tensor ring example to use a TR-based model with `tednet`."
   ]
  },
  {
   "cell_type": "code",
   "execution_count": 1,
   "metadata": {
    "colab": {
     "base_uri": "https://localhost:8080/",
     "height": 34
    },
    "colab_type": "code",
    "id": "ri9QCNEAVwgw",
    "outputId": "efd8c64b-836e-449b-a385-dd3a63a5b4a2"
   },
   "outputs": [
    {
     "name": "stdout",
     "output_type": "stream",
     "text": [
      "No GPU Util Limit!\n",
      "Sorted by memory:\n",
      "    GPU Index: 1       GPU FreeMemory: 11176 MB       GPU Util: 0%    \n",
      "    GPU Index: 2       GPU FreeMemory: 11176 MB       GPU Util: 0%    \n",
      "    GPU Index: 4       GPU FreeMemory: 11176 MB       GPU Util: 0%    \n",
      "    GPU Index: 0       GPU FreeMemory: 6133 MB        GPU Util: 74%   \n",
      "    GPU Index: 3       GPU FreeMemory: 1109 MB        GPU Util: 100%  \n",
      "    GPU Index: 5       GPU FreeMemory: 1109 MB        GPU Util: 100%  \n",
      "    GPU Index: 6       GPU FreeMemory: 1109 MB        GPU Util: 100%  \n",
      "    GPU Index: 7       GPU FreeMemory: 1109 MB        GPU Util: 0%    \n",
      "Qualified GPU Index is: [1]\n"
     ]
    }
   ],
   "source": [
    "from managpu import GpuManager\n",
    "my_gpu = GpuManager()\n",
    "my_gpu.set_by_memory(1)\n",
    "\n",
    "import random\n",
    "\n",
    "import tednet as tdt\n",
    "import tednet.tnn.tensor_ring as tr\n",
    "\n",
    "import numpy as np\n",
    "\n",
    "import torch\n",
    "import torch.nn as nn\n",
    "import torch.nn.functional as F\n",
    "import torch.optim as optim\n",
    "\n",
    "from torchvision import datasets, transforms"
   ]
  },
  {
   "cell_type": "markdown",
   "metadata": {},
   "source": [
    "**Set basic environment**"
   ]
  },
  {
   "cell_type": "code",
   "execution_count": 2,
   "metadata": {},
   "outputs": [],
   "source": [
    "use_cuda = torch.cuda.is_available()\n",
    "device = torch.device(\"cuda\" if use_cuda else \"cpu\")\n",
    "seed = 233\n",
    "random.seed(seed)\n",
    "np.random.seed(seed)\n",
    "torch.manual_seed(seed)\n",
    "if use_cuda:\n",
    "    torch.cuda.manual_seed_all(seed)\n",
    "    torch.backends.cudnn.benchmark = True\n",
    "    torch.backends.cudnn.deterministic = True"
   ]
  },
  {
   "cell_type": "markdown",
   "metadata": {},
   "source": [
    "**Set dataloader**"
   ]
  },
  {
   "cell_type": "code",
   "execution_count": 3,
   "metadata": {},
   "outputs": [],
   "source": [
    "kwargs = {'num_workers': 1, 'pin_memory': True} if use_cuda else {}\n",
    "train_loader = torch.utils.data.DataLoader(\n",
    "    datasets.MNIST('./data', train=True, download=True,\n",
    "                   transform=transforms.Compose([\n",
    "                       transforms.ToTensor(),\n",
    "                       transforms.Normalize((0.1307,), (0.3081,))\n",
    "                   ])),\n",
    "    batch_size=128, shuffle=True, **kwargs)\n",
    "test_loader = torch.utils.data.DataLoader(\n",
    "    datasets.MNIST('./data', train=False, transform=transforms.Compose([\n",
    "        transforms.ToTensor(),\n",
    "        transforms.Normalize((0.1307,), (0.3081,))\n",
    "    ])),\n",
    "    batch_size=256, shuffle=True, **kwargs)"
   ]
  },
  {
   "cell_type": "markdown",
   "metadata": {},
   "source": [
    "**Set training and testing process**"
   ]
  },
  {
   "cell_type": "code",
   "execution_count": 4,
   "metadata": {
    "colab": {},
    "colab_type": "code",
    "id": "5Awp7wdwVwg3"
   },
   "outputs": [],
   "source": [
    "def train(model, device, train_loader, optimizer, epoch, log_interval=200):\n",
    "    model.train()\n",
    "    for batch_idx, (data, target) in enumerate(train_loader):\n",
    "        data, target = data.to(device), target.to(device)\n",
    "        optimizer.zero_grad()\n",
    "        output = model(data)\n",
    "        loss = F.cross_entropy(output, target)\n",
    "        loss.backward()\n",
    "        optimizer.step()\n",
    "        if batch_idx % log_interval == 0:\n",
    "            print('Train Epoch: {} [{}/{} ({:.0f}%)]\\tLoss: {:.6f}'.format(\n",
    "                epoch, batch_idx * len(data), len(train_loader.dataset),\n",
    "                       100. * batch_idx / len(train_loader), loss.item()))\n",
    "\n",
    "\n",
    "def test(model, device, test_loader):\n",
    "    model.eval()\n",
    "    test_loss = 0\n",
    "    correct = 0\n",
    "    with torch.no_grad():\n",
    "        for data, target in test_loader:\n",
    "            data, target = data.to(device), target.to(device)\n",
    "            output = model(data)\n",
    "            test_loss += F.cross_entropy(output, target, reduction='sum').item()  # sum up batch loss\n",
    "            pred = output.argmax(dim=1, keepdim=True)  # get the index of the max log-probability\n",
    "            correct += pred.eq(target.view_as(pred)).sum().item()\n",
    "\n",
    "    test_loss /= len(test_loader.dataset)\n",
    "\n",
    "    print('\\nTest set: Average loss: {:.4f}, Accuracy: {}/{} ({:.0f}%)\\n'.format(\n",
    "        test_loss, correct, len(test_loader.dataset),\n",
    "        100. * correct / len(test_loader.dataset)))"
   ]
  },
  {
   "cell_type": "markdown",
   "metadata": {},
   "source": [
    "**Begin training**"
   ]
  },
  {
   "cell_type": "code",
   "execution_count": 5,
   "metadata": {},
   "outputs": [
    {
     "name": "stdout",
     "output_type": "stream",
     "text": [
      "compression_ration is:  0.3968253968253968\n",
      "compression_ration is:  14.17233560090703\n",
      "compression_ration is:  241.54589371980677\n",
      "compression_ration is:  2.867383512544803\n",
      "Train Epoch: 0 [0/60000 (0%)]\tLoss: 2.633792\n",
      "Train Epoch: 0 [25600/60000 (43%)]\tLoss: 0.109367\n",
      "Train Epoch: 0 [51200/60000 (85%)]\tLoss: 0.133933\n",
      "\n",
      "Test set: Average loss: 0.0756, Accuracy: 9751/10000 (98%)\n",
      "\n",
      "Train Epoch: 1 [0/60000 (0%)]\tLoss: 0.074946\n",
      "Train Epoch: 1 [25600/60000 (43%)]\tLoss: 0.039371\n",
      "Train Epoch: 1 [51200/60000 (85%)]\tLoss: 0.029103\n",
      "\n",
      "Test set: Average loss: 0.0691, Accuracy: 9782/10000 (98%)\n",
      "\n",
      "Train Epoch: 2 [0/60000 (0%)]\tLoss: 0.113578\n",
      "Train Epoch: 2 [25600/60000 (43%)]\tLoss: 0.099431\n",
      "Train Epoch: 2 [51200/60000 (85%)]\tLoss: 0.084437\n",
      "\n",
      "Test set: Average loss: 0.0544, Accuracy: 9826/10000 (98%)\n",
      "\n",
      "Train Epoch: 3 [0/60000 (0%)]\tLoss: 0.130137\n",
      "Train Epoch: 3 [25600/60000 (43%)]\tLoss: 0.083295\n",
      "Train Epoch: 3 [51200/60000 (85%)]\tLoss: 0.021406\n",
      "\n",
      "Test set: Average loss: 0.0608, Accuracy: 9799/10000 (98%)\n",
      "\n",
      "Train Epoch: 4 [0/60000 (0%)]\tLoss: 0.044310\n",
      "Train Epoch: 4 [25600/60000 (43%)]\tLoss: 0.025041\n",
      "Train Epoch: 4 [51200/60000 (85%)]\tLoss: 0.017827\n",
      "\n",
      "Test set: Average loss: 0.0446, Accuracy: 9861/10000 (99%)\n",
      "\n",
      "Train Epoch: 5 [0/60000 (0%)]\tLoss: 0.035976\n",
      "Train Epoch: 5 [25600/60000 (43%)]\tLoss: 0.130144\n",
      "Train Epoch: 5 [51200/60000 (85%)]\tLoss: 0.066351\n",
      "\n",
      "Test set: Average loss: 0.0457, Accuracy: 9854/10000 (99%)\n",
      "\n",
      "Train Epoch: 6 [0/60000 (0%)]\tLoss: 0.071825\n",
      "Train Epoch: 6 [25600/60000 (43%)]\tLoss: 0.031684\n",
      "Train Epoch: 6 [51200/60000 (85%)]\tLoss: 0.049287\n",
      "\n",
      "Test set: Average loss: 0.0444, Accuracy: 9854/10000 (99%)\n",
      "\n",
      "Train Epoch: 7 [0/60000 (0%)]\tLoss: 0.074904\n",
      "Train Epoch: 7 [25600/60000 (43%)]\tLoss: 0.083052\n",
      "Train Epoch: 7 [51200/60000 (85%)]\tLoss: 0.021132\n",
      "\n",
      "Test set: Average loss: 0.0397, Accuracy: 9880/10000 (99%)\n",
      "\n",
      "Train Epoch: 8 [0/60000 (0%)]\tLoss: 0.020113\n",
      "Train Epoch: 8 [25600/60000 (43%)]\tLoss: 0.022854\n",
      "Train Epoch: 8 [51200/60000 (85%)]\tLoss: 0.008770\n",
      "\n",
      "Test set: Average loss: 0.0424, Accuracy: 9866/10000 (99%)\n",
      "\n",
      "Train Epoch: 9 [0/60000 (0%)]\tLoss: 0.007447\n",
      "Train Epoch: 9 [25600/60000 (43%)]\tLoss: 0.095077\n",
      "Train Epoch: 9 [51200/60000 (85%)]\tLoss: 0.018731\n",
      "\n",
      "Test set: Average loss: 0.0339, Accuracy: 9896/10000 (99%)\n",
      "\n",
      "Train Epoch: 10 [0/60000 (0%)]\tLoss: 0.025279\n",
      "Train Epoch: 10 [25600/60000 (43%)]\tLoss: 0.038482\n",
      "Train Epoch: 10 [51200/60000 (85%)]\tLoss: 0.043692\n",
      "\n",
      "Test set: Average loss: 0.0391, Accuracy: 9882/10000 (99%)\n",
      "\n",
      "Train Epoch: 11 [0/60000 (0%)]\tLoss: 0.022135\n",
      "Train Epoch: 11 [25600/60000 (43%)]\tLoss: 0.008357\n",
      "Train Epoch: 11 [51200/60000 (85%)]\tLoss: 0.031139\n",
      "\n",
      "Test set: Average loss: 0.0380, Accuracy: 9882/10000 (99%)\n",
      "\n",
      "Train Epoch: 12 [0/60000 (0%)]\tLoss: 0.004145\n",
      "Train Epoch: 12 [25600/60000 (43%)]\tLoss: 0.024185\n",
      "Train Epoch: 12 [51200/60000 (85%)]\tLoss: 0.030595\n",
      "\n",
      "Test set: Average loss: 0.0354, Accuracy: 9887/10000 (99%)\n",
      "\n",
      "Train Epoch: 13 [0/60000 (0%)]\tLoss: 0.013407\n",
      "Train Epoch: 13 [25600/60000 (43%)]\tLoss: 0.008846\n",
      "Train Epoch: 13 [51200/60000 (85%)]\tLoss: 0.061894\n",
      "\n",
      "Test set: Average loss: 0.0380, Accuracy: 9867/10000 (99%)\n",
      "\n",
      "Train Epoch: 14 [0/60000 (0%)]\tLoss: 0.017808\n",
      "Train Epoch: 14 [25600/60000 (43%)]\tLoss: 0.002656\n",
      "Train Epoch: 14 [51200/60000 (85%)]\tLoss: 0.013447\n",
      "\n",
      "Test set: Average loss: 0.0354, Accuracy: 9887/10000 (99%)\n",
      "\n",
      "Train Epoch: 15 [0/60000 (0%)]\tLoss: 0.009893\n",
      "Train Epoch: 15 [25600/60000 (43%)]\tLoss: 0.081577\n",
      "Train Epoch: 15 [51200/60000 (85%)]\tLoss: 0.018266\n",
      "\n",
      "Test set: Average loss: 0.0326, Accuracy: 9893/10000 (99%)\n",
      "\n",
      "Train Epoch: 16 [0/60000 (0%)]\tLoss: 0.011158\n",
      "Train Epoch: 16 [25600/60000 (43%)]\tLoss: 0.004466\n",
      "Train Epoch: 16 [51200/60000 (85%)]\tLoss: 0.034247\n",
      "\n",
      "Test set: Average loss: 0.0343, Accuracy: 9891/10000 (99%)\n",
      "\n",
      "Train Epoch: 17 [0/60000 (0%)]\tLoss: 0.030956\n",
      "Train Epoch: 17 [25600/60000 (43%)]\tLoss: 0.010426\n",
      "Train Epoch: 17 [51200/60000 (85%)]\tLoss: 0.061093\n",
      "\n",
      "Test set: Average loss: 0.0315, Accuracy: 9897/10000 (99%)\n",
      "\n",
      "Train Epoch: 18 [0/60000 (0%)]\tLoss: 0.017390\n",
      "Train Epoch: 18 [25600/60000 (43%)]\tLoss: 0.023027\n",
      "Train Epoch: 18 [51200/60000 (85%)]\tLoss: 0.029767\n",
      "\n",
      "Test set: Average loss: 0.0332, Accuracy: 9888/10000 (99%)\n",
      "\n",
      "Train Epoch: 19 [0/60000 (0%)]\tLoss: 0.034303\n",
      "Train Epoch: 19 [25600/60000 (43%)]\tLoss: 0.003748\n",
      "Train Epoch: 19 [51200/60000 (85%)]\tLoss: 0.026581\n",
      "\n",
      "Test set: Average loss: 0.0307, Accuracy: 9898/10000 (99%)\n",
      "\n"
     ]
    }
   ],
   "source": [
    "# Define a TR-LeNet5\n",
    "model = tr.TRLeNet5(10, [6, 6, 6, 6])\n",
    "model.to(device)\n",
    "optimizer = optim.SGD(model.parameters(), lr=2e-2, momentum=0.9, weight_decay=5e-4)\n",
    "\n",
    "for epoch in range(20):\n",
    "    train(model, device, train_loader, optimizer, epoch)\n",
    "    test(model, device, test_loader)"
   ]
  }
 ],
 "metadata": {
  "colab": {
   "collapsed_sections": [],
   "name": "riemannian.ipynb",
   "provenance": []
  },
  "kernelspec": {
   "display_name": "Python 3",
   "language": "python",
   "name": "python3"
  },
  "language_info": {
   "codemirror_mode": {
    "name": "ipython",
    "version": 3
   },
   "file_extension": ".py",
   "mimetype": "text/x-python",
   "name": "python",
   "nbconvert_exporter": "python",
   "pygments_lexer": "ipython3",
   "version": "3.7.9"
  }
 },
 "nbformat": 4,
 "nbformat_minor": 1
}
